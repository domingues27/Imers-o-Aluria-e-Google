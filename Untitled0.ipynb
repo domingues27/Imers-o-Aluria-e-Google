{
  "nbformat": 4,
  "nbformat_minor": 0,
  "metadata": {
    "colab": {
      "provenance": [],
      "authorship_tag": "ABX9TyOM1V4EwLKaLT3JoeGcfYmI",
      "include_colab_link": true
    },
    "kernelspec": {
      "name": "python3",
      "display_name": "Python 3"
    },
    "language_info": {
      "name": "python"
    }
  },
  "cells": [
    {
      "cell_type": "markdown",
      "metadata": {
        "id": "view-in-github",
        "colab_type": "text"
      },
      "source": [
        "<a href=\"https://colab.research.google.com/github/domingues27/Imers-o-Aluria-e-Google/blob/main/Untitled0.ipynb\" target=\"_parent\"><img src=\"https://colab.research.google.com/assets/colab-badge.svg\" alt=\"Open In Colab\"/></a>"
      ]
    },
    {
      "cell_type": "code",
      "source": [
        "pip install -q -U google-generativeai"
      ],
      "metadata": {
        "id": "G2xt5Vv9sn0q"
      },
      "execution_count": null,
      "outputs": []
    },
    {
      "cell_type": "code",
      "source": [
        "!def to_markdown(text):"
      ],
      "metadata": {
        "colab": {
          "base_uri": "https://localhost:8080/"
        },
        "id": "xlb_d0Pxu_I4",
        "outputId": "70bf118d-1ce9-47ff-954f-3f89bf8e68f3"
      },
      "execution_count": null,
      "outputs": [
        {
          "output_type": "stream",
          "name": "stdout",
          "text": [
            "/bin/bash: -c: line 1: syntax error near unexpected token `('\n",
            "/bin/bash: -c: line 1: `def to_markdown(text):'\n"
          ]
        }
      ]
    },
    {
      "cell_type": "code",
      "source": [
        "!img = PIL.Image.open('image.jpg')"
      ],
      "metadata": {
        "colab": {
          "base_uri": "https://localhost:8080/"
        },
        "id": "duRdhG1Zvbkk",
        "outputId": "2858207a-ab76-4f28-9cd0-ce2e37dd481c"
      },
      "execution_count": null,
      "outputs": [
        {
          "output_type": "stream",
          "name": "stdout",
          "text": [
            "/bin/bash: -c: line 1: syntax error near unexpected token `('\n",
            "/bin/bash: -c: line 1: `img = PIL.Image.open('image.jpg')'\n"
          ]
        }
      ]
    },
    {
      "cell_type": "code",
      "source": [
        "!pip install -q -U google-generativeai"
      ],
      "metadata": {
        "id": "R2dWD0zOv9zi"
      },
      "execution_count": 1,
      "outputs": []
    },
    {
      "cell_type": "code",
      "source": [
        "import google.generativeai as genai"
      ],
      "metadata": {
        "id": "pFCYDhYc-EUQ"
      },
      "execution_count": 2,
      "outputs": []
    },
    {
      "cell_type": "code",
      "source": [
        "# Configurações da API Generative AI"
      ],
      "metadata": {
        "id": "sgMsuFze-vpL"
      },
      "execution_count": 3,
      "outputs": []
    },
    {
      "cell_type": "code",
      "source": [
        "from google.colab import userdata"
      ],
      "metadata": {
        "id": "885SlRK4pbn_"
      },
      "execution_count": 135,
      "outputs": []
    },
    {
      "cell_type": "markdown",
      "source": [],
      "metadata": {
        "id": "kYMctaHui4pz"
      }
    },
    {
      "cell_type": "code",
      "source": [
        "genai.configure (secretName)"
      ],
      "metadata": {
        "id": "GL44EpRNmku5"
      },
      "execution_count": null,
      "outputs": []
    },
    {
      "cell_type": "code",
      "source": [
        "# Configurações da API Generative do"
      ],
      "metadata": {
        "id": "M4w5Q6BaBzUp"
      },
      "execution_count": 18,
      "outputs": []
    },
    {
      "cell_type": "code",
      "source": [
        "TURISMO_API_= \"Escolha um lugar que deseja viajar\""
      ],
      "metadata": {
        "id": "WwOnhcefDqBm"
      },
      "execution_count": 24,
      "outputs": []
    },
    {
      "cell_type": "code",
      "source": [
        "TURISMO_API_KEY= (\"categoria: por estado e região\")"
      ],
      "metadata": {
        "id": "mZOw9U_0H4fo"
      },
      "execution_count": 43,
      "outputs": []
    },
    {
      "cell_type": "code",
      "source": [
        "\"\"\"Conecta com API do Escolha um lugar que deseja viaja\"\"\""
      ],
      "metadata": {
        "colab": {
          "base_uri": "https://localhost:8080/",
          "height": 36
        },
        "id": "truKzwuXFk9R",
        "outputId": "9e286391-dbcc-484d-ff28-b8fa46a0ffcc"
      },
      "execution_count": 117,
      "outputs": [
        {
          "output_type": "execute_result",
          "data": {
            "text/plain": [
              "'Conecta com API do Escolha um lugar que deseja viajar'"
            ],
            "application/vnd.google.colaboratory.intrinsic+json": {
              "type": "string"
            }
          },
          "metadata": {},
          "execution_count": 117
        }
      ]
    },
    {
      "cell_type": "code",
      "source": [
        "# Configurações por segurança"
      ],
      "metadata": {
        "id": "N1yRr7anIWeq"
      },
      "execution_count": 44,
      "outputs": []
    },
    {
      "cell_type": "code",
      "source": [
        "safety_settings= {'HATE: BLOCk_NONE, MENOR DE IDADE, escrever palavras de ódio, palavras de baixo calão'}"
      ],
      "metadata": {
        "id": "aWWS3ytRIfcM"
      },
      "execution_count": 95,
      "outputs": []
    },
    {
      "cell_type": "code",
      "source": [
        "# Inicializando o modelo Gemini"
      ],
      "metadata": {
        "id": "cNYMuQ4iI2uZ"
      },
      "execution_count": 46,
      "outputs": []
    },
    {
      "cell_type": "code",
      "source": [
        "model=genai.GenerativeModelresponse"
      ],
      "metadata": {
        "id": "AsnlEidZJPdG"
      },
      "execution_count": 47,
      "outputs": []
    },
    {
      "cell_type": "code",
      "source": [
        "response = model.generate_content"
      ],
      "metadata": {
        "id": "Ny770SpELDiB"
      },
      "execution_count": 54,
      "outputs": []
    },
    {
      "cell_type": "code",
      "source": [
        "import textwrap"
      ],
      "metadata": {
        "id": "wkyn4rJxNxLh"
      },
      "execution_count": 72,
      "outputs": []
    },
    {
      "cell_type": "code",
      "source": [
        "from IPython.display import display"
      ],
      "metadata": {
        "id": "gtGeKujlN7Uw"
      },
      "execution_count": 73,
      "outputs": []
    },
    {
      "cell_type": "code",
      "source": [
        "from IPython.display import Markdown"
      ],
      "metadata": {
        "id": "MOLNxz8ZOE6i"
      },
      "execution_count": 74,
      "outputs": []
    },
    {
      "cell_type": "code",
      "source": [
        "Saudações= (Olá, aqui é o Turismo LTDA, estou curioso para onde você deseja explorar no Brasil e no Mundo!)"
      ],
      "metadata": {
        "id": "VOTvdnzsTlH5"
      },
      "execution_count": null,
      "outputs": []
    },
    {
      "cell_type": "code",
      "source": [
        "prompt = input (\"Mas antes... Qual é o seu nome?\")"
      ],
      "metadata": {
        "colab": {
          "base_uri": "https://localhost:8080/"
        },
        "id": "QNvg9hJEXcDN",
        "outputId": "dcce0c39-38c5-4593-faaa-03f8f6f9e959"
      },
      "execution_count": 99,
      "outputs": [
        {
          "name": "stdout",
          "output_type": "stream",
          "text": [
            "Mas antes... Qual é o seu nome? Andréia\n"
          ]
        }
      ]
    },
    {
      "cell_type": "code",
      "source": [
        "prompt = input (\"Idade\")"
      ],
      "metadata": {
        "colab": {
          "base_uri": "https://localhost:8080/"
        },
        "id": "WiJy3s1eXi0Z",
        "outputId": "a77fc141-a4b7-4bf5-d2a9-19caf5d658b5"
      },
      "execution_count": 101,
      "outputs": [
        {
          "name": "stdout",
          "output_type": "stream",
          "text": [
            "Idade 35\n"
          ]
        }
      ]
    },
    {
      "cell_type": "code",
      "source": [
        "prompt = input (\"Contato\")"
      ],
      "metadata": {
        "colab": {
          "base_uri": "https://localhost:8080/"
        },
        "id": "XdTPUE_LZwNw",
        "outputId": "7979d262-18da-4fa3-b6f7-6b710bb31691"
      },
      "execution_count": 94,
      "outputs": [
        {
          "name": "stdout",
          "output_type": "stream",
          "text": [
            "Contato(11) XXXXX-XXXX\n"
          ]
        }
      ]
    },
    {
      "cell_type": "code",
      "source": [
        "prompt = input (\"Estado e Cidade\")"
      ],
      "metadata": {
        "colab": {
          "base_uri": "https://localhost:8080/"
        },
        "id": "5iCNnzN3YQc5",
        "outputId": "6112dab9-48a2-4149-8ecb-723bbf55c654"
      },
      "execution_count": 90,
      "outputs": [
        {
          "name": "stdout",
          "output_type": "stream",
          "text": [
            "Estado e Cidade São Paulo Carapcuíba\n"
          ]
        }
      ]
    },
    {
      "cell_type": "code",
      "source": [
        "prompt = input (\"Escolha um lugar que deseja viajar\")"
      ],
      "metadata": {
        "colab": {
          "base_uri": "https://localhost:8080/"
        },
        "id": "lM0t44kIY49I",
        "outputId": "efa29097-b65e-4a83-dfce-21f31f0d175f"
      },
      "execution_count": 91,
      "outputs": [
        {
          "name": "stdout",
          "output_type": "stream",
          "text": [
            "Escolha um lugar que deseja viajar Rio de Janeiro\n"
          ]
        }
      ]
    }
  ]
}